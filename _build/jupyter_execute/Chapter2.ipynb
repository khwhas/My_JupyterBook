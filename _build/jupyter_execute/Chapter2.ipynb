{
 "cells": [
  {
   "cell_type": "markdown",
   "id": "071db8dd",
   "metadata": {},
   "source": [
    "# Chapter2: Python Codes \n",
    "This chapter contain all the codes in the `python` programing language.\n",
    "\n",
    "```{note}\n",
    "If you have to the access to the github repository of my Jupyter Book then I strongly recommand to read this chapter from the Chapter2.ipynb. Since this chapter is all about the codes therefore it will be easy to see the code and respective output.\n",
    "```\n",
    "\n",
    "## Subsection\n",
    "\n",
    "\n",
    "AAA"
   ]
  },
  {
   "cell_type": "markdown",
   "id": "d4a42348",
   "metadata": {},
   "source": [
    "This line is added from the notebook. So I open the Chapter2.ipynb file in notebook and I added this line. The purpose is to see if I can see this changes in the htttp link and also in the Chapter2.md file."
   ]
  },
  {
   "cell_type": "markdown",
   "id": "7a915d24",
   "metadata": {},
   "source": [
    "Here is the mathematical equation $e^{\\pi \\iota}$"
   ]
  },
  {
   "cell_type": "code",
   "execution_count": 1,
   "id": "cc3ecf4f",
   "metadata": {},
   "outputs": [
    {
     "name": "stdout",
     "output_type": "stream",
     "text": [
      "The value of C is = 8\n"
     ]
    }
   ],
   "source": [
    "A = 2 \n",
    "B = 6\n",
    "C = A + B\n",
    "print(\"The value of C is =\", C)"
   ]
  },
  {
   "cell_type": "code",
   "execution_count": null,
   "id": "f208a39f",
   "metadata": {},
   "outputs": [],
   "source": []
  }
 ],
 "metadata": {
  "jupytext": {
   "formats": "md:myst,ipynb",
   "text_representation": {
    "extension": ".md",
    "format_name": "myst",
    "format_version": 0.13,
    "jupytext_version": "1.16.4"
   }
  },
  "kernelspec": {
   "display_name": "Python 3 (ipykernel)",
   "language": "python",
   "name": "python3"
  },
  "language_info": {
   "codemirror_mode": {
    "name": "ipython",
    "version": 3
   },
   "file_extension": ".py",
   "mimetype": "text/x-python",
   "name": "python",
   "nbconvert_exporter": "python",
   "pygments_lexer": "ipython3",
   "version": "3.8.5"
  },
  "source_map": [
   13,
   27,
   31,
   35,
   42
  ]
 },
 "nbformat": 4,
 "nbformat_minor": 5
}