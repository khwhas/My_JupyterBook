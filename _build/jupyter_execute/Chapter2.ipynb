{
 "cells": [
  {
   "cell_type": "markdown",
   "id": "eed5f133",
   "metadata": {},
   "source": [
    "# Chapter2: XYZ\n",
    "Here I am checking referenceing to the First topic of the refchapter1 to see if it can take me to it.\n",
    "## Subsection\n",
    "\n",
    "\n",
    "AAA"
   ]
  },
  {
   "cell_type": "markdown",
   "id": "875d5399",
   "metadata": {},
   "source": [
    "This line is added from the notebook. So I open the Chapter2.ipynb file in notebook and I added this line. The purpose is to see if I can see this changes in the htttp link and also in the Chapter2.md file."
   ]
  },
  {
   "cell_type": "markdown",
   "id": "85d62c3b",
   "metadata": {},
   "source": [
    "Here is the mathematical equation $e^{\\pi \\iota}$"
   ]
  },
  {
   "cell_type": "code",
   "execution_count": 1,
   "id": "c4f0b9a6",
   "metadata": {},
   "outputs": [
    {
     "name": "stdout",
     "output_type": "stream",
     "text": [
      "The value of C is = 8\n"
     ]
    }
   ],
   "source": [
    "A = 2 \n",
    "B = 6\n",
    "C = A + B\n",
    "print(\"The value of C is =\", C)"
   ]
  },
  {
   "cell_type": "code",
   "execution_count": null,
   "id": "a381909e",
   "metadata": {},
   "outputs": [],
   "source": []
  }
 ],
 "metadata": {
  "jupytext": {
   "formats": "md:myst,ipynb",
   "text_representation": {
    "extension": ".md",
    "format_name": "myst",
    "format_version": 0.13,
    "jupytext_version": "1.16.4"
   }
  },
  "kernelspec": {
   "display_name": "Python 3 (ipykernel)",
   "language": "python",
   "name": "python3"
  },
  "language_info": {
   "codemirror_mode": {
    "name": "ipython",
    "version": 3
   },
   "file_extension": ".py",
   "mimetype": "text/x-python",
   "name": "python",
   "nbconvert_exporter": "python",
   "pygments_lexer": "ipython3",
   "version": "3.8.5"
  },
  "source_map": [
   13,
   22,
   26,
   30,
   37
  ]
 },
 "nbformat": 4,
 "nbformat_minor": 5
}