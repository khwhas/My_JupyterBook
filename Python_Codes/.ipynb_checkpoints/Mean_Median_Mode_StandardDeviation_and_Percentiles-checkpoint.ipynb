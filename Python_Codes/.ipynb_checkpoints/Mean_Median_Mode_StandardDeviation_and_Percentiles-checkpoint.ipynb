{
 "cells": [
  {
   "cell_type": "markdown",
   "id": "d088f6a4-70f2-4e42-9fac-04ca7a744533",
   "metadata": {},
   "source": [
    "## 1. Measures of Central Tendency\n",
    "In Machine Learning (and in mathematics) there are often three values that interest us.\n",
    "* **Mean** - The average value.\n",
    "* **Median** - The midpoint value.\n",
    "* **Mode** - The most common value."
   ]
  },
  {
   "cell_type": "markdown",
   "id": "cf41d70e-cdf1-4954-a63f-fa2e22d8fecb",
   "metadata": {},
   "source": [
    "As an example, let's consisder an array that represents the speed of multiple (13) cars.  "
   ]
  },
  {
   "cell_type": "code",
   "execution_count": 1,
   "id": "71ab7e26-12e9-4885-b680-ee25474cb5dc",
   "metadata": {},
   "outputs": [],
   "source": [
    "speed = [99,86,87,88,111,86,103,87,94,78,77,85,86]"
   ]
  },
  {
   "cell_type": "markdown",
   "id": "7066b1ca-c26c-4d53-9691-2f417844f21a",
   "metadata": {},
   "source": [
    "## 1.1. Mean\n",
    "The mean value is the average value. To calculate the mean, find the sum of all values, and divide the sum by the number of values. Use the NumPy <code style= \"color:red\">mean()</code> method to find the average speed."
   ]
  },
  {
   "cell_type": "code",
   "execution_count": 8,
   "id": "6ec3e29e-f0a9-46d4-b01f-b3156d665532",
   "metadata": {},
   "outputs": [
    {
     "name": "stdout",
     "output_type": "stream",
     "text": [
      "The mean speed of the 13 different vehicles are 89.76923076923077\n"
     ]
    }
   ],
   "source": [
    "# Determine the mean\n",
    "import numpy as np\n",
    "speed = [99,86,87,88,111,86,103,87,94,78,77,85,86]\n",
    "mean = np.mean(speed)\n",
    "print(\"The mean speed of the 13 different vehicles are\", mean)"
   ]
  },
  {
   "cell_type": "markdown",
   "id": "3d72ad2d-0877-4fc5-9ed0-d1565e54b204",
   "metadata": {},
   "source": [
    "## 1.2. Median\n",
    "The median value is the value in the middle after you have sorted all the values. Use the NumPy <code style= \"color:red\">median()</code> method to find the middle value."
   ]
  },
  {
   "cell_type": "code",
   "execution_count": 10,
   "id": "28a60b39-d980-41a6-a2fd-5dc2b0771183",
   "metadata": {},
   "outputs": [
    {
     "name": "stdout",
     "output_type": "stream",
     "text": [
      "The median speed of the 13 different vehicles are 87.0\n"
     ]
    }
   ],
   "source": [
    "# Determine the median\n",
    "import numpy as np\n",
    "speed = [99,86,87,88,111,86,103,87,94,78,77,85,86]\n",
    "median = np.median(speed)\n",
    "print(\"The median speed of the 13 different vehicles are\", median)"
   ]
  },
  {
   "cell_type": "markdown",
   "id": "1ddc216a-8718-472d-b674-db5106256206",
   "metadata": {},
   "source": [
    "## 1.3. Mode\n",
    "The Mode value is the value that appears the most number of times. The SciPy module has a method for this. Use the SciPy <code style= \"color:red\">mode()</code> method to find the number that appears the most."
   ]
  },
  {
   "cell_type": "code",
   "execution_count": 11,
   "id": "4715e360-842f-4412-bc81-febe7f5110bc",
   "metadata": {},
   "outputs": [
    {
     "name": "stdout",
     "output_type": "stream",
     "text": [
      "ModeResult(mode=array([86]), count=array([3]))\n"
     ]
    }
   ],
   "source": [
    "# Determine the median\n",
    "import numpy as np\n",
    "from scipy import stats\n",
    "speed = [99,86,87,88,111,86,103,87,94,78,77,85,86]\n",
    "# Pass keepdims as an argument to stats.mode\n",
    "mode = stats.mode(speed, keepdims=True) \n",
    "print(mode) "
   ]
  },
  {
   "cell_type": "markdown",
   "id": "1c881771-865c-476e-8e86-6d1212f440dd",
   "metadata": {},
   "source": [
    "In the output of the **Mode** we can see <span style= \"color:red\">mode=array([86])</span> indecates that **86** is the most appeared number and <span style= \"color:red\">count=array([3])</span> indecates it appeared **3** times."
   ]
  },
  {
   "cell_type": "markdown",
   "id": "8f6490e6-40aa-4546-b825-db39a7482c85",
   "metadata": {},
   "source": [
    "## 2. Addational  "
   ]
  },
  {
   "cell_type": "markdown",
   "id": "605bfeb4-96d6-4e9a-9f09-fedc908ac30a",
   "metadata": {},
   "source": [
    "## 2.1. Standard Deviation\n",
    "Standard deviation is a number that describes how spread out the values are. A low standard deviation means that most of the numbers are close to the mean (average) value. \n",
    "A high standard deviation means that the values are spread out over a wider range.\n",
    "\n",
    "We can use the NumPy <code style= \"color:red\">std()</code> method to find the standard deviation."
   ]
  },
  {
   "cell_type": "code",
   "execution_count": 12,
   "id": "3c7ff43c-3312-4f93-b4da-ed37489ae5e4",
   "metadata": {},
   "outputs": [
    {
     "name": "stdout",
     "output_type": "stream",
     "text": [
      "Standard Deviation 9.258292301032677\n"
     ]
    }
   ],
   "source": [
    "# Determine the Standard Deviation\n",
    "import numpy as np\n",
    "speed = [99,86,87,88,111,86,103,87,94,78,77,85,86]\n",
    "stnd_dev = np.std(speed)\n",
    "print(\"Standard Deviation\", stnd_dev)"
   ]
  },
  {
   "cell_type": "markdown",
   "id": "5d051bcb-3f2e-4451-b97f-f84127db5665",
   "metadata": {},
   "source": [
    "## 2.2. Percentile\n",
    "Percentiles are used in statistics to give you a number that describes the value that a given percent\n",
    "of the values are lower than.\n",
    "\n",
    "**For Example:** Let’s say we have an array that contains the ages of every person living on a street.\n",
    "Use the NumPy <code style= \"color:red\">percentile()</code> method to find the percentile."
   ]
  },
  {
   "cell_type": "code",
   "execution_count": 14,
   "id": "4622deaf-74a0-4797-982a-c5ff5b51cfdc",
   "metadata": {},
   "outputs": [
    {
     "name": "stdout",
     "output_type": "stream",
     "text": [
      "43.0\n"
     ]
    }
   ],
   "source": [
    "# Determine the Percentiles\n",
    "import numpy as np\n",
    "ages = [5,31,43,48,50,41,7,11,15,39,80,82,32,2,8,6,25,36,27,61,31]\n",
    "percentile = np.percentile(ages, 75)\n",
    "print(percentile)"
   ]
  },
  {
   "cell_type": "code",
   "execution_count": null,
   "id": "40b707b4-6fe8-429b-857d-dcded79202e7",
   "metadata": {},
   "outputs": [],
   "source": []
  }
 ],
 "metadata": {
  "kernelspec": {
   "display_name": "Python 3 (ipykernel)",
   "language": "python",
   "name": "python3"
  },
  "language_info": {
   "codemirror_mode": {
    "name": "ipython",
    "version": 3
   },
   "file_extension": ".py",
   "mimetype": "text/x-python",
   "name": "python",
   "nbconvert_exporter": "python",
   "pygments_lexer": "ipython3",
   "version": "3.8.5"
  }
 },
 "nbformat": 4,
 "nbformat_minor": 5
}
