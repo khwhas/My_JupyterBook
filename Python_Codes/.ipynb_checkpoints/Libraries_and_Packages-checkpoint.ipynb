{
 "cells": [
  {
   "cell_type": "markdown",
   "id": "f7099c24-3f2b-472a-8970-549c0c8cdca2",
   "metadata": {},
   "source": [
    "## 1. Libraries and Packages\n",
    "In **Jupyter Notebook/Lab** it is essential to include some specific libraries and packages, among which the <code style= \"color:red\">numpy</code>, <code style= \"color:red\">matplotlib</code> are the most common.\n",
    "\n",
    "<be> Here I have collected some of the libraries and one can either select all of them or just select the specific from the list.\n"
   ]
  },
  {
   "cell_type": "code",
   "execution_count": 3,
   "id": "4393a95b-13fa-41fe-a3cf-8dc35a2a665f",
   "metadata": {},
   "outputs": [],
   "source": [
    "# import libraries \n",
    "import numpy as np\n",
    "import os\n",
    "import pandas as pd\n",
    "import matplotlib.pyplot as plt\n",
    "import math\n",
    "# \n",
    "from IPython.display import display\n",
    "from numpy import random\n",
    "from scipy import stats\n",
    "from math import log\n",
    "from scipy import sparse\n",
    "from sklearn.linear_model import LinearRegression\n",
    "from scipy.optimize import curve_fit\n",
    "from scipy.interpolate import make_interp_spline\n",
    "from scipy import stats\n",
    "from scipy.stats import norm\n",
    "from matplotlib import colors"
   ]
  },
  {
   "cell_type": "code",
   "execution_count": null,
   "id": "16b59047-fd79-496f-b82d-c414bc1221ae",
   "metadata": {},
   "outputs": [],
   "source": []
  }
 ],
 "metadata": {
  "kernelspec": {
   "display_name": "Python 3 (ipykernel)",
   "language": "python",
   "name": "python3"
  },
  "language_info": {
   "codemirror_mode": {
    "name": "ipython",
    "version": 3
   },
   "file_extension": ".py",
   "mimetype": "text/x-python",
   "name": "python",
   "nbconvert_exporter": "python",
   "pygments_lexer": "ipython3",
   "version": "3.8.5"
  }
 },
 "nbformat": 4,
 "nbformat_minor": 5
}
