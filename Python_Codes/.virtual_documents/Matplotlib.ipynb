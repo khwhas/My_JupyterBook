





# Draw a line in a diagram from position (0,0) to position (6,250):
import numpy as np
import matplotlib.pyplot as plt

xpoints = np.array([0, 6])
ypoints = np.array([0, 250])


plt.plot(xpoints, ypoints, marker = 'x')
plt.show()





# Markers
import pandas as pd

data_1 = {'Markers': ['o', '$*$', '.', ',', 'x', 'X', '+', 'P', 's', 'D', 'd', 'p', 'H', 'h', 'v', '^', '<', 
                       '>', '1', '2', '3', '4', '|', '_'], 
           'Description': ['Circle', 'Star' ,'Point' ,'Pixel' ,'X' ,'X (filled)' ,'Plus' 
                           ,'Plus (filled)', 'Square' ,'Diamond' ,'Diamond (thin)' ,'Pentagon' 
                           ,'Hexagon' ,'Hexagon' ,'Triangle Down' ,'Triangle Up' ,'Triangle Left', 
                           'Triangle Right' ,'Tri Down' ,'Tri Up' ,'Tri Left' ,'Tri Right' ,'Vline', 'Hline']}

data_1_pandas = pd.DataFrame(data_1)
display(data_1_pandas)





data_2 = {'Style':['solid (defauld)', 'dotted', 'dashed', 'dashdot', 'none'], 'Or':['-', ':', '--', '-.', 'or']}
data_2_pandas = pd.DataFrame(data_2)
display(data_2_pandas)



plt.plot(xpoints, ypoints, linestyle = 'dotted')
plt.show()





plt.plot(xpoints, ypoints, ls = '--')
plt.show()





plt.plot(ypoints, ls='--', color = 'r')
# or
# plt.plot(ypoints, ls='--', c = 'r')
plt.show()





plt.plot(ypoints, ls = '-', c = 'b', linewidth = '5.5')
plt.show()





x1 = np.array([0, 1, 2, 3])
y1 = np.array([3, 8, 1, 10])
x2 = np.array([0, 1, 2, 3])
y2 = np.array([6, 2, 7, 11])

# plt.plot(x1, y1, x2, y2)
# or
plt.plot(x1, y1, ls = '-', c = 'r', lw = 1.0)
plt.plot(x2, y2, ls = ':', c = 'b', lw = .5)
plt.show()





plt.xlabel("x-axis")
plt.ylabel('y-axis')
plt.plot(x1, y1, ls = '-', c = 'r', lw = 1.0)
plt.show





plt.title('This is the plot title')
plt.xlabel("x-axis")
plt.ylabel('y-axis')
plt.plot(x2, y2, ls = '-', c = 'r', lw = 1.0)
plt.grid()
plt.show











#plot 1:
x_2 = np.array([0, 1, 2, 3])
y_2 = np.array([3, 8, 1, 10])

plt.subplot(1, 2, 1) # the figure has 1 row and 2 columns, and this plot is the first plot.
plt.plot(x_2,y_2)

#plot 2:
x_3 = np.array([0, 1, 2, 3])
y_3 = np.array([10, 20, 30, 40])

plt.subplot(1, 2, 2) # the figure has 1 row and 2 columns, and this plot is the second plot.
plt.plot(x_3,y_3)

plt.show()








# Loading the data 
data100=np.loadtxt('./280_60(100).dat',usecols=(0,1,2,3,4,5,6))
calc100=np.loadtxt('./../RFG_electrons/12C/second-run/fort.100')
# Plotting the data
fig, axs = plt.subplots(1,figsize=(8,5))
axs.plot(calc100[:,0],calc100[:,1], ls='-',c='gray',label='RFG Calculation')
axs.plot(data100[:,4],data100[:,5]/10**(3),ls='x',c='red',label='Experimental data')
axs.set_title('$E_i=280$ MeV, ${\\theta}=60^\circ$',fontsize=14,style='normal')
axs.set_xlim([0.0,0.15])
axs.set_xlabel('${\omega}$ [GeV]')
axs.set_ylabel('d${\sigma}$/d${\rho}$dE [nb/sr/GeV]')
axs.legend()
plt.grid(true)
plt.savefig('280_60.pdf')




