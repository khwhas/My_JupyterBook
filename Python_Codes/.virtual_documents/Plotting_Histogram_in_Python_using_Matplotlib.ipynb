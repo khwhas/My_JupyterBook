





import matplotlib.pyplot as plt
import numpy as np

# Generate random data for the histogram
data = np.random.randn(1000)

# Plotting a basic histogram
plt.hist(data, bins=100, color='skyblue', edgecolor='black')

# Adding labels and title
plt.xlabel('Values')
plt.ylabel('Frequency')
plt.title('Basic Histogram')

# Display the plot
plt.show()






import matplotlib.pyplot as plt
import seaborn as sns
import numpy as np
 
# Generate random data for the histogram
data11 = np.random.randn(10000)
 
# Creating a customized histogram with a density plot
sns.histplot(data11, bins=100, kde=True, color='lightgreen', edgecolor='red')
 
# Adding labels and title
plt.xlabel('Values')
plt.ylabel('Density')
plt.title('Customized Histogram with Density Plot')
 
# Display the plot
plt.show()





import matplotlib.pyplot as plt
import numpy as np
from matplotlib import colors
from matplotlib.ticker import PercentFormatter


# Creating dataset
np.random.seed(23685752)
N_points = 10000
n_bins = 500

# Creating distribution
x = np.random.randn(N_points)
y = .8 ** x + np.random.randn(10000) + 25
legend = ['distribution']

# Creating histogram
fig, axs = plt.subplots(1, 1, figsize =(10, 7), tight_layout = True)


# Remove axes splines 
for s in ['top', 'bottom', 'left', 'right']: axs.spines[s].set_visible(False) 

# Remove x, y ticks
axs.xaxis.set_ticks_position('none') 
axs.yaxis.set_ticks_position('none') 

# Add padding between axes and labels 
axs.xaxis.set_tick_params(pad = 5) 
axs.yaxis.set_tick_params(pad = 10) 

# Add x, y gridlines 
axs.grid(visible = True, color ='grey', linestyle ='-.', linewidth = 0.5, alpha = 0.6) 

# Add Text watermark 
fig.text(0.9, 0.15, 'Jeeteshgavande30', fontsize = 12, color ='red', ha ='right', va ='bottom', alpha = 0.7) 

# Creating histogram
N, bins, patches = axs.hist(x, bins = n_bins)

# Setting color
fracs = ((N**(1 / 5)) / N.max())
norm = colors.Normalize(fracs.min(), fracs.max())

for thisfrac, thispatch in zip(fracs, patches):
    color = plt.cm.viridis(norm(thisfrac))
    thispatch.set_facecolor(color)


# Adding a color bar
sm = plt.cm.ScalarMappable(cmap=plt.cm.viridis, norm=norm)
sm.set_array([])
cbar = plt.colorbar(sm, ax=axs)
cbar.set_label('Intensity')

# Customizing color bar ticks and format
#cbar.set_ticks([0, 0.25, 0.5, 0.75, 1])  # Set custom ticks
#cbar.ax.yaxis.set_tick_params(labelsize=12)  # Optional: change the font size of the ticks
#cbar.ax.invert_yaxis()  # Optional: invert the color bar if you prefer

# Adding extra features 
plt.xlabel("X-axis")
plt.ylabel("y-axis")
plt.legend(legend)
plt.title('Customized histogram')

# Show plot
plt.show()






import matplotlib.pyplot as plt
import numpy as np

# Generate random data for multiple histograms
data111 = np.random.randn(1000)
data222 = np.random.normal(loc=3, scale=1, size=1000)

# Creating subplots with multiple histograms
fig, axes = plt.subplots(nrows=1, ncols=2, figsize=(12, 4))

axes[0].hist(data111, bins=100, color='Yellow', edgecolor='black')
axes[0].set_title('Histogram 1')

axes[1].hist(data222, bins=100, color='Pink', edgecolor='black')
axes[1].set_title('Histogram 2')

# Adding labels and title
for ax in axes:
	ax.set_xlabel('Values')
	ax.set_ylabel('Frequency')

# Adjusting layout for better spacing
plt.tight_layout()

# Display the figure
plt.show()






import matplotlib.pyplot as plt
import numpy as np

# Generate random data for stacked histograms
data1 = np.random.randn(1000)
data2 = np.random.normal(loc=3, scale=1, size=1000)

## Creating a stacked histogram
#plt.hist([data1, data2], bins=100, stacked=True, color=['cyan', 'Purple'], edgecolor='black')

# Creating a stacked histogram with one color transparent and the other brighter
plt.hist(data1, bins=100, color='cyan', alpha=0.3, edgecolor='black', label='Dataset 1')  # Transparent
plt.hist(data2, bins=100, color='purple', alpha=0.3, edgecolor='black', label='Dataset 2')  # Brighter


# Adding labels and title
plt.xlabel('Values')
plt.ylabel('Frequency')
plt.title('Stacked Histogram')

# Adding legend
plt.legend(['Dataset 1', 'Dataset 2'])

# Display the plot
plt.show()






import matplotlib.pyplot as plt
import numpy as np

# Generate random 2D data for hexbin plot
x = np.random.randn(1000)
y = 2 * x + np.random.normal(size=1000)

# Creating a 2D histogram (hexbin plot)
plt.hexbin(x, y, gridsize=30, cmap='Blues')

# Adding labels and title
plt.xlabel('X values')
plt.ylabel('Y values')
plt.title('2D Histogram (Hexbin Plot)')

# Adding colorbar
plt.colorbar()

# Display the plot
plt.show()






import matplotlib.pyplot as plt
import numpy as np

# Generate random 2D data
x = np.random.randn(1000)
y = 2 * x + np.random.normal(size=1000)

# Creating a 2D histogram with square bins
plt.hist2d(x, y, bins=30, cmap='Blues')

# Adding labels and title
plt.xlabel('X values')
plt.ylabel('Y values')
plt.title('2D Histogram with Square Bins')

# Adding colorbar
plt.colorbar()

# Adding a custom legend
plt.legend(['Density of Points'], loc='upper right')


# Display the plot
plt.show()


pwd



