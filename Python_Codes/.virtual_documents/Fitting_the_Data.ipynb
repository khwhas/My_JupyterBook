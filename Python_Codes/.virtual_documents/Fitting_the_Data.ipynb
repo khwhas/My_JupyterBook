








import matplotlib.pyplot as plt
import numpy as np
from matplotlib import colors
from matplotlib.ticker import PercentFormatter

# Define the file path 
#file_path = "/home/hassan/Desktop/Jupyter_Book/My_JupyterBook/Python_Codes/Data_File/Gaussian_Data.dat"

# Opean and read the file
#with open(file_path, 'r') as file:
#    Gaussian_data = file.read()
#print(Gaussian_data)


# Loading the data 
#data100=np.loadtxt('./Gaussian_Data.dat',usecols=(0,1), skiprows=1)
#print(data100[0:, :])    # data100([skip row from:skip row to, skip column from:skip column to])


"""
from scipy import stats
from scipy.optimize import curve_fit

#N_points = 100
n_bins = 10000

x = np.loadtxt('./Gaussian_Data.dat',usecols=(0), skiprows=1)
y = np.loadtxt('./Gaussian_Data.dat',usecols=(1), skiprows=1)
legend = ['distribution']

# Define Gaussian function
def gaussian(x, A, mu, sigma):
    return A * np.exp(-((x - mu)**2) / (2 * sigma**2))

# Creating histogram
fig, axs = plt.subplots(1, 1, figsize=(10, 7), tight_layout=True)

# Histogram for x values
N, bins, patches = axs.hist(x, bins=30, density=True, alpha=0.6, color='g', label='Data Histogram')

# Calculate bin centers
bin_centers = (bins[:-1] + bins[1:]) / 2

# Initial guess for Gaussian parameters
initial_guess = [1, np.mean(x), np.std(x)]

# Fit the Gaussian function to the histogram data
popt, _ = curve_fit(gaussian, bin_centers, N, p0=initial_guess)

# Extract fitting parameters
A_fit, mu_fit, sigma_fit = popt

# Create a smooth x range for plotting the Gaussian fit
x_fit = np.linspace(min(x), max(x), 1000)
y_fit = gaussian(x_fit, A_fit, mu_fit, sigma_fit)

# Plot Gaussian fit
axs.plot(x_fit, y_fit, 'r-', label=f'Gaussian Fit: $\mu={mu_fit:.2f}, \sigma={sigma_fit:.2f}$')

# Styling the plot
axs.set_xlabel("X-axis")
axs.set_ylabel("Density")
axs.set_title("Histogram with Gaussian Fit")
axs.legend()
axs.grid(visible=True, linestyle='--', alpha=0.7)

# Show plot
plt.show()
"""


import numpy as np
import matplotlib.pyplot as plt
from scipy.optimize import curve_fit
from matplotlib import colors
from scipy import stats


# Function to define a Gaussian
def gaussian(x, A, mu, sigma):
    return A * np.exp(-((x - mu)**2) / (2 * sigma**2))

# Load data
x = np.loadtxt('./Data_File/Gaussian_Data.dat', usecols=(0), skiprows=1)
y = np.loadtxt('./Data_File/Gaussian_Data.dat', usecols=(1), skiprows=1)
n_bins = 100
legend = ['Distribution']

# Creating histogram
fig, axs = plt.subplots(1, 1, figsize=(10, 7), tight_layout=True)

# Remove axes splines
for s in ['top', 'bottom', 'left', 'right']:
    axs.spines[s].set_visible(False)

# Remove x, y ticks
axs.xaxis.set_ticks_position('none')
axs.yaxis.set_ticks_position('none')

# Add padding between axes and labels
axs.xaxis.set_tick_params(pad=5)
axs.yaxis.set_tick_params(pad=10)

# Add x, y gridlines
axs.grid(visible=True, color='grey', linestyle='-.', linewidth=0.5, alpha=0.6)

# Add Text watermark
fig.text(0.9, 0.15, 'Jeeteshgavande30', fontsize=12, color='red', ha='right', va='bottom', alpha=0.7)

# Create histogram
N, bins, patches = axs.hist(x, bins=n_bins, density=True, alpha=0.6, label='Histogram')

# Calculate bin centers
bin_centers = (bins[:-1] + bins[1:]) / 2

# Initial guess for Gaussian parameters
initial_guess = [1, np.mean(x), np.std(x)]

# Fit the Gaussian function to the histogram data
popt, _ = curve_fit(gaussian, bin_centers, N, p0=initial_guess)

# Extract fitted parameters
A_fit, mu_fit, sigma_fit = popt

# Create a smooth x range for plotting the Gaussian fit
x_fit = np.linspace(min(x), max(x), 1000)
y_fit = gaussian(x_fit, A_fit, mu_fit, sigma_fit)

# Plot Gaussian fit
axs.plot(x_fit, y_fit, 'r-', label=f'Gaussian Fit: $\mu={mu_fit:.2f}, \sigma={sigma_fit:.2f}$')

# Set color for histogram bars
fracs = ((N**(1 / 5)) / N.max())
norm = colors.Normalize(fracs.min(), fracs.max())
for thisfrac, thispatch in zip(fracs, patches):
    color = plt.cm.viridis(norm(thisfrac))
    thispatch.set_facecolor(color)

# Adding a color bar
sm = plt.cm.ScalarMappable(cmap=plt.cm.viridis, norm=norm)
sm.set_array([])
cbar = plt.colorbar(sm, ax=axs)
cbar.set_label('Intensity')

# Add extra features
plt.xlabel("X-axis")
plt.ylabel("Density")
plt.legend()
plt.title('Customized Histogram with Gaussian Fit')

# Show plot
plt.show()









import numpy as np
import matplotlib.pyplot as plt
from scipy.stats import norm
from matplotlib import colors

# Load data
x = np.loadtxt('./Two_Gaussian_Data.dat', usecols=(0), skiprows=1)
y = np.loadtxt('./Two_Gaussian_Data.dat', usecols=(1), skiprows=1)

# Define manual ranges and their corresponding centroids
range1 = (-3.5, 3)  # First range
centroid1 = 0.8    # First centroid

range2 = (1, 6)  # Second range
centroid2 = 3     # Second centroid

# Creating histogram
fig, axs = plt.subplots(1, 1, figsize=(10, 7), tight_layout=True)

# Remove axes splines
for s in ['top', 'bottom', 'left', 'right']:
    axs.spines[s].set_visible(False)

# Remove x, y ticks
axs.xaxis.set_ticks_position('none')
axs.yaxis.set_ticks_position('none')

# Add padding between axes and labels
axs.xaxis.set_tick_params(pad=5)
axs.yaxis.set_tick_params(pad=10)

# Add x, y gridlines
axs.grid(visible=True, color='grey', linestyle='-.', linewidth=0.5, alpha=0.6)

# Add Text watermark
fig.text(0.9, 0.15, 'Histogram with Gaussian Fits', fontsize=12, color='red', ha='right', va='bottom', alpha=0.7)

# Combine `x` and `y` into a single array for the histogram
data_combined = np.concatenate([x, y])

# Plot the histogram
N, bins, patches = axs.hist(data_combined, bins=20, density=True, alpha=0.5)

# Set color for the histogram
fracs = ((N**(1 / 5)) / N.max())
color_norm = colors.Normalize(fracs.min(), fracs.max())

for thisfrac, thispatch in zip(fracs, patches):
    color = plt.cm.viridis(color_norm(thisfrac))
    thispatch.set_facecolor(color)

# Function to fit and plot a Gaussian for a specific range
def plot_gaussian_fit(data, range_min, range_max, label):
    # Filter data within the specified range
    data_in_range = data[(data >= range_min) & (data <= range_max)]
    
    # Fit a Gaussian to the filtered data
    mu, std = norm.fit(data_in_range)
    
    # Create x values for the Gaussian curve
    x_fit = np.linspace(range_min, range_max, 1000)
    y_fit = norm.pdf(x_fit, mu, std)
    
    # Plot the Gaussian curve
    axs.plot(x_fit, y_fit, label=f"{label}: μ={mu:.2f}, σ={std:.2f}")

# Plot Gaussian fits for the specified ranges
plot_gaussian_fit(data_combined, *range1, "Gaussian Fit 1")  # First Gaussian
plot_gaussian_fit(data_combined, *range2, "Gaussian Fit 2")  # Second Gaussian

# Adding a color bar
sm = plt.cm.ScalarMappable(cmap=plt.cm.viridis, norm=color_norm)
sm.set_array([])
cbar = plt.colorbar(sm, ax=axs)
cbar.set_label('Intensity')

# Adding extra features
plt.xlabel("X-axis")
plt.ylabel("Density")
plt.legend()
plt.title('Histogram with Two Gaussian Fits')

# Show plot
plt.show()






import numpy as np
import matplotlib.pyplot as plt
from scipy.stats import norm
from scipy.optimize import curve_fit

# Provided data
data = np.array([
    [-25, 0.3], [-24, 0.5], [-23, 0.4], [-22, 0.9], [-21, 0.5], [-20, 0.8],
    [-19, 0.7], [-18, 0.9], [-17, 1.0], [-16, 1.5], [-15, 2.5], [-14, 3.0],
    [-13, 4.5], [-12, 6.0], [-11, 7.5], [-10, 10.0], [-9, 8.5], [-8, 7.0],
    [-7, 5.5], [-6, 4.0], [-5, 2.5], [-4, 1.0], [-3, 0.5], [-2, 0.3],
    [-1, 0.7], [0, 0.5], [1, 1.0], [2, 2.5], [3, 1.0], [4, 0.6], [5, 0.3],
    [6, 0.7], [7, 1.0], [8, 1.5], [9, 2.5], [10, 4.5], [11, 6.0], [12, 9.5],
    [13, 11.0], [14, 12.5], [15, 15.0], [16, 11.5], [17, 10.0], [18, 7.5],
    [19, 5.5], [20, 3.0], [21, 1.5], [22, 0.6], [23, 0.3], [24, 0.9],
    [25, 0.8]
])

x, y = data[:, 0], data[:, 1]

# Define manual ranges
# Define manual ranges and their corresponding centroids
range1 = (-25, 0)  # First range
centroid1 = 10      # First centroid

#range2 = (-9, 0)     # Second range
#centroid2 = -4       # Second centroid

range3 = (4, 23)     # Third range
centroid3 = 15       # Third centroid

#range4 = (16, 25)    # Fourth range
#centroid4 = 20       # Fourth centroid


# Define a Gaussian function
def gaussian(x, amp, mu, sigma):
    return amp * np.exp(-0.5 * ((x - mu) / sigma) ** 2)

# Function to fit and plot a Gaussian for a specific range
def plot_gaussian_fit(x_data, y_data, range_min, range_max, label, ax):
    # Filter data within the specified range
    mask = (x_data >= range_min) & (x_data <= range_max)
    x_filtered, y_filtered = x_data[mask], y_data[mask]
    
    # Fit Gaussian using curve_fit
    try:
        popt, _ = curve_fit(gaussian, x_filtered, y_filtered, p0=[y_filtered.max(), np.mean(x_filtered), np.std(x_filtered)])
        amp, mu, sigma = popt
        
        # Create x values for the Gaussian curve
        x_fit = np.linspace(range_min, range_max, 1000)
        y_fit = gaussian(x_fit, amp, mu, sigma)
        
        # Plot the Gaussian curve
        ax.plot(x_fit, y_fit, label=f"{label}: μ={mu:.2f}, σ={sigma:.2f}", linewidth=2)
    except RuntimeError:
        print(f"Fit failed for {label} in range {range_min} to {range_max}")

# Creating histogram
fig, axs = plt.subplots(1, 1, figsize=(10, 7), tight_layout=True)

# Plot the histogram with custom bins
axs.hist(x, bins=50, weights=y, alpha=0.5, color='blue', label='Data')

# Plot Gaussian fits for each range
plot_gaussian_fit(x, y, *range1, "Gaussian Fit 1", axs)
plot_gaussian_fit(x, y, *range3, "Gaussian Fit 3", axs)

# Adding extra features
plt.xlabel("X-axis")
plt.ylabel("Y-axis")
plt.legend()
plt.title('Histogram with Improved Gaussian Fits')

# Show plot
plt.show()



ls


import numpy as np
import matplotlib.pyplot as plt
from scipy.stats import norm
from scipy.optimize import curve_fit

# Load data
x = np.loadtxt('./Two_Gaussian_Data.dat', usecols=(0), skiprows=1)
y = np.loadtxt('./Two_Gaussian_Data.dat', usecols=(1), skiprows=1)


# Define manual ranges
# Define manual ranges and their corresponding centroids
range1 = (-3, 2)  # First range
centroid1 = -1.8      # First centroid

#range2 = (-9, 0)     # Second range
#centroid2 = -4       # Second centroid

range3 = (-1, 3)     # Third range
centroid3 = 0.2       # Third centroid

#range4 = (16, 25)    # Fourth range
#centroid4 = 20       # Fourth centroid


# Define a Gaussian function
def gaussian(x, amp, mu, sigma):
    return amp * np.exp(-0.5 * ((x - mu) / sigma) ** 2)

# Function to fit and plot a Gaussian for a specific range
def plot_gaussian_fit(x_data, y_data, range_min, range_max, label, ax):
    # Filter data within the specified range
    mask = (x_data >= range_min) & (x_data <= range_max)
    x_filtered, y_filtered = x_data[mask], y_data[mask]
    
    # Fit Gaussian using curve_fit
    try:
        popt, _ = curve_fit(gaussian, x_filtered, y_filtered, p0=[y_filtered.max(), np.mean(x_filtered), np.std(x_filtered)])
        amp, mu, sigma = popt
        
        # Create x values for the Gaussian curve
        x_fit = np.linspace(range_min, range_max, 1000)
        y_fit = gaussian(x_fit, amp, mu, sigma)
        
        # Plot the Gaussian curve
        ax.plot(x_fit, y_fit, label=f"{label}: μ={mu:.2f}, σ={sigma:.2f}", linewidth=2)
    except RuntimeError:
        print(f"Fit failed for {label} in range {range_min} to {range_max}")

# Creating histogram
fig, axs = plt.subplots(1, 1, figsize=(10, 7), tight_layout=True)

# Plot the histogram with custom bins
axs.hist(x, bins=50, weights=y, alpha=0.5, color='blue', label='Data')

# Plot Gaussian fits for each range
plot_gaussian_fit(x, y, *range1, "Gaussian Fit 1", axs)
plot_gaussian_fit(x, y, *range3, "Gaussian Fit 3", axs)

# Adding extra features
plt.xlabel("X-axis")
plt.ylabel("Y-axis")
plt.legend()
plt.title('Histogram with Improved Gaussian Fits')

# Show plot
plt.show()









import numpy as np
import matplotlib.pyplot as plt

# Read the data from the file
data4 = np.genfromtxt('Effic_log.txt', skip_header=1)

# Extract the columns from the data
energies = data4[:, 0]
efficiencies = data4[:, 1]
error_in_x = np.zeros_like(energies)
error_in_y = data4[:, 2]

# Define the degree of the polynomial fit
degree = 1

# Perform polynomial fit
fit_params = np.polyfit(energies, efficiencies, deg=degree)

# Generate fitted curve
x_fit = np.linspace(min(energies), max(energies), 100)
y_fit = np.polyval(fit_params, x_fit)

# Plot the data points with error bars
plt.errorbar(energies, efficiencies, xerr=error_in_x, yerr=error_in_y, fmt='o', capsize=3, label='Data')
plt.plot(x_fit, y_fit, 'r-', label='Polynomial Fit (Degree {})'.format(degree))

# Set plot title and labels
plt.title('Energy vs. Efficiency ')
plt.xlabel('Energy')
plt.ylabel('Efficiency')

# Add legend
plt.legend()

# Display the plot
#plt.show()
#plt.savefig('Eu_Ba_Ga_fitted_to_the_polynomial_degree_8')

# Print the fitted parameters
params_str = ' '.join(['{:.6f}'.format(param) for param in fit_params])
print("Fitted Parameters:")
print("Polynomial Coefficients:", params_str)



import numpy as np
import matplotlib.pyplot as plt

# Read the data from the file
data4 = np.genfromtxt('Effic_log.txt', skip_header=1)

# Extract the columns from the data
energies = data4[:, 0]
efficiencies = data4[:, 1]
error_in_x = np.zeros_like(energies)
error_in_y = data4[:, 2]

# Define the degree of the polynomial fit
degree = 3

# Perform polynomial fit
fit_params = np.polyfit(energies, efficiencies, deg=degree)

# Generate fitted curve
x_fit = np.linspace(min(energies), max(energies), 100)
y_fit = np.polyval(fit_params, x_fit)

# Plot the data points with error bars
plt.errorbar(energies, efficiencies, xerr=error_in_x, yerr=error_in_y, fmt='o', capsize=3, label='Data')
plt.plot(x_fit, y_fit, 'r-', label='Polynomial Fit (Degree {})'.format(degree))

# Set plot title and labels
plt.title('Energy vs. Efficiency ')
plt.xlabel('Energy')
plt.ylabel('Efficiency')

# Add legend
plt.legend()

# Display the plot
#plt.show()
#plt.savefig('Eu_Ba_Ga_fitted_to_the_polynomial_degree_8')

# Print the fitted parameters
params_str = ' '.join(['{:.6f}'.format(param) for param in fit_params])
print("Fitted Parameters:")
print("Polynomial Coefficients:", params_str)



import numpy as np
import matplotlib.pyplot as plt

# Read the data from the file
data4 = np.genfromtxt('Effic_log.txt', skip_header=1)

# Extract the columns from the data
energies = data4[:, 0]
efficiencies = data4[:, 1]
error_in_x = np.zeros_like(energies)
error_in_y = data4[:, 2]

# Define the degree of the polynomial fit
degree = 4

# Perform polynomial fit
fit_params = np.polyfit(energies, efficiencies, deg=degree)

# Generate fitted curve
x_fit = np.linspace(min(energies), max(energies), 100)
y_fit = np.polyval(fit_params, x_fit)

# Plot the data points with error bars
plt.errorbar(energies, efficiencies, xerr=error_in_x, yerr=error_in_y, fmt='o', capsize=3, label='Data')
plt.plot(x_fit, y_fit, 'r-', label='Polynomial Fit (Degree {})'.format(degree))

# Set plot title and labels
plt.title('Energy vs. Efficiency ')
plt.xlabel('Energy')
plt.ylabel('Efficiency')

# Add legend
plt.legend()

# Display the plot
#plt.show()
#plt.savefig('Eu_Ba_Ga_fitted_to_the_polynomial_degree_8')

# Print the fitted parameters
params_str = ' '.join(['{:.6f}'.format(param) for param in fit_params])
print("Fitted Parameters:")
print("Polynomial Coefficients:", params_str)



import numpy as np
import matplotlib.pyplot as plt

# Read the data from the file
data4 = np.genfromtxt('Effic_log.txt', skip_header=1)

# Extract the columns from the data
energies = data4[:, 0]
efficiencies = data4[:, 1]
error_in_x = np.zeros_like(energies)
error_in_y = data4[:, 2]

# Define the degree of the polynomial fit
degree = 5

# Perform polynomial fit
fit_params = np.polyfit(energies, efficiencies, deg=degree)

# Generate fitted curve
x_fit = np.linspace(min(energies), max(energies), 100)
y_fit = np.polyval(fit_params, x_fit)

# Plot the data points with error bars
plt.errorbar(energies, efficiencies, xerr=error_in_x, yerr=error_in_y, fmt='o', capsize=3, label='Data')
plt.plot(x_fit, y_fit, 'r-', label='Polynomial Fit (Degree {})'.format(degree))

# Set plot title and labels
plt.title('Energy vs. Efficiency ')
plt.xlabel('Energy')
plt.ylabel('Efficiency')

# Add legend
plt.legend()

# Display the plot
#plt.show()
#plt.savefig('Eu_Ba_Ga_fitted_to_the_polynomial_degree_8')

# Print the fitted parameters
params_str = ' '.join(['{:.6f}'.format(param) for param in fit_params])
print("Fitted Parameters:")
print("Polynomial Coefficients:", params_str)



import numpy as np
import matplotlib.pyplot as plt

# Read the data from the file
data4 = np.genfromtxt('Effic_log.txt', skip_header=1)

# Extract the columns from the data
energies = data4[:, 0]
efficiencies = data4[:, 1]
error_in_x = np.zeros_like(energies)
error_in_y = data4[:, 2]

# Define the degree of the polynomial fit
degree = 8

# Perform polynomial fit
fit_params = np.polyfit(energies, efficiencies, deg=degree)

# Generate fitted curve
x_fit = np.linspace(min(energies), max(energies), 100)
y_fit = np.polyval(fit_params, x_fit)

# Plot the data points with error bars
plt.errorbar(energies, efficiencies, xerr=error_in_x, yerr=error_in_y, fmt='o', capsize=3, label='Data')
plt.plot(x_fit, y_fit, 'r-', label='Polynomial Fit (Degree {})'.format(degree))

# Set plot title and labels
plt.title('Energy vs. Efficiency ')
plt.xlabel('Energy')
plt.ylabel('Efficiency')

# Add legend
plt.legend()

# Display the plot
#plt.show()
#plt.savefig('Eu_Ba_Ga_fitted_to_the_polynomial_degree_8')

# Print the fitted parameters
params_str = ' '.join(['{:.6f}'.format(param) for param in fit_params])
print("Fitted Parameters:")
print("Polynomial Coefficients:", params_str)
6


import numpy as np
import matplotlib.pyplot as plt

# Read the data from the file
data4 = np.genfromtxt('Effic_log.txt', skip_header=1)

# Extract the columns from the data
energies = data4[:, 0]
efficiencies = data4[:, 1]
error_in_x = np.zeros_like(energies)
error_in_y = data4[:, 2]

# Define the degree of the polynomial fit
degree = 7

# Perform polynomial fit
fit_params = np.polyfit(energies, efficiencies, deg=degree)

# Generate fitted curve
x_fit = np.linspace(min(energies), max(energies), 100)
y_fit = np.polyval(fit_params, x_fit)

# Plot the data points with error bars
plt.errorbar(energies, efficiencies, xerr=error_in_x, yerr=error_in_y, fmt='o', capsize=3, label='Data')
plt.plot(x_fit, y_fit, 'r-', label='Polynomial Fit (Degree {})'.format(degree))

# Set plot title and labels
plt.title('Energy vs. Efficiency ')
plt.xlabel('Energy')
plt.ylabel('Efficiency')

# Add legend
plt.legend()

# Display the plot
#plt.show()
#plt.savefig('Eu_Ba_Ga_fitted_to_the_polynomial_degree_8')

# Print the fitted parameters
params_str = ' '.join(['{:.6f}'.format(param) for param in fit_params])
print("Fitted Parameters:")
print("Polynomial Coefficients:", params_str)



import numpy as np
import matplotlib.pyplot as plt

# Read the data from the file
data4 = np.genfromtxt('Effic_log.txt', skip_header=1)

# Extract the columns from the data
energies = data4[:, 0]
efficiencies = data4[:, 1]
error_in_x = np.zeros_like(energies)
error_in_y = data4[:, 2]

# Define the degree of the polynomial fit
degree = 8

# Perform polynomial fit
fit_params = np.polyfit(energies, efficiencies, deg=degree)

# Generate fitted curve
x_fit = np.linspace(min(energies), max(energies), 100)
y_fit = np.polyval(fit_params, x_fit)

# Plot the data points with error bars
plt.errorbar(energies, efficiencies, xerr=error_in_x, yerr=error_in_y, fmt='o', capsize=3, label='Data')
plt.plot(x_fit, y_fit, 'r-', label='Polynomial Fit (Degree {})'.format(degree))

# Set plot title and labels
plt.title('Energy vs. Efficiency ')
plt.xlabel('Energy')
plt.ylabel('Efficiency')

# Add legend
plt.legend()

# Display the plot
#plt.show()
#plt.savefig('Eu_Ba_Ga_fitted_to_the_polynomial_degree_8')

# Print the fitted parameters
params_str = ' '.join(['{:.6f}'.format(param) for param in fit_params])
print("Fitted Parameters:")
print("Polynomial Coefficients:", params_str)



import numpy as np
import matplotlib.pyplot as plt

# Read the data from the file
data4 = np.genfromtxt('Effic_log.txt', skip_header=1)

# Extract the columns from the data
energies = data4[:, 0]
efficiencies = data4[:, 1]
error_in_x = np.zeros_like(energies)
error_in_y = data4[:, 2]

# Define the degree of the polynomial fit
degree = 9

# Perform polynomial fit
fit_params = np.polyfit(energies, efficiencies, deg=degree)

# Generate fitted curve
x_fit = np.linspace(min(energies), max(energies), 100)
y_fit = np.polyval(fit_params, x_fit)

# Plot the data points with error bars
plt.errorbar(energies, efficiencies, xerr=error_in_x, yerr=error_in_y, fmt='o', capsize=3, label='Data')
plt.plot(x_fit, y_fit, 'r-', label='Polynomial Fit (Degree {})'.format(degree))

# Set plot title and labels
plt.title('Energy vs. Efficiency ')
plt.xlabel('Energy')
plt.ylabel('Efficiency')

# Add legend
plt.legend()

# Display the plot
#plt.show()
#plt.savefig('Eu_Ba_Ga_fitted_to_the_polynomial_degree_8')

# Print the fitted parameters
params_str = ' '.join(['{:.6f}'.format(param) for param in fit_params])
print("Fitted Parameters:")
print("Polynomial Coefficients:", params_str)



import numpy as np
import matplotlib.pyplot as plt

# Read the data from the file
data4 = np.genfromtxt('Effic_log.txt', skip_header=1)

# Extract the columns from the data
energies = data4[:, 0]
efficiencies = data4[:, 1]
error_in_x = np.zeros_like(energies)
error_in_y = data4[:, 2]

# Define the degree of the polynomial fit
degree = 10

# Perform polynomial fit
fit_params = np.polyfit(energies, efficiencies, deg=degree)

# Generate fitted curve
x_fit = np.linspace(min(energies), max(energies), 100)
y_fit = np.polyval(fit_params, x_fit)

# Plot the data points with error bars
plt.errorbar(energies, efficiencies, xerr=error_in_x, yerr=error_in_y, fmt='o', capsize=3, label='Data')
plt.plot(x_fit, y_fit, 'r-', label='Polynomial Fit (Degree {})'.format(degree))

# Set plot title and labels
plt.title('Energy vs. Efficiency ')
plt.xlabel('Energy')
plt.ylabel('Efficiency')

# Add legend
plt.legend()

# Display the plot
#plt.show()
#plt.savefig('Eu_Ba_Ga_fitted_to_the_polynomial_degree_8')

# Print the fitted parameters
params_str = ' '.join(['{:.6f}'.format(param) for param in fit_params])
print("Fitted Parameters:")
print("Polynomial Coefficients:", params_str)







