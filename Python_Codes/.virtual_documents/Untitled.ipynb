





speed = [99,86,87,88,111,86,103,87,94,78,77,85,86]





# Determine the mean
import numpy as np
speed = [99,86,87,88,111,86,103,87,94,78,77,85,86]
mean = np.mean(speed)
print("The mean speed of the 13 different vehicles are", mean)





# Determine the median
import numpy as np
speed = [99,86,87,88,111,86,103,87,94,78,77,85,86]
median = np.median(speed)
print("The median speed of the 13 different vehicles are", median)





# Determine the median
import numpy as np
from scipy import stats
speed = [99,86,87,88,111,86,103,87,94,78,77,85,86]
# Pass keepdims as an argument to stats.mode
mode = stats.mode(speed, keepdims=True) 
print(mode) 











# Determine the Standard Deviation
import numpy as np
speed = [99,86,87,88,111,86,103,87,94,78,77,85,86]
stnd_dev = np.std(speed)
print("Standard Deviation", stnd_dev)





# Determine the Percentiles
import numpy as np
ages = [5,31,43,48,50,41,7,11,15,39,80,82,32,2,8,6,25,36,27,61,31]
percentile = np.percentile(ages, 75)
print(percentile)



