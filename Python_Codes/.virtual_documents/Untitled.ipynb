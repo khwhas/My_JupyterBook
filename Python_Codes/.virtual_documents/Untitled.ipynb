








import matplotlib.pyplot as plt
import numpy as np
from matplotlib import colors
from matplotlib.ticker import PercentFormatter

# Define the file path 
#file_path = "/home/hassan/Desktop/Jupyter_Book/My_JupyterBook/Python_Codes/Data_File/Gaussian_Data.dat"

# Opean and read the file
#with open(file_path, 'r') as file:
#    Gaussian_data = file.read()
#print(Gaussian_data)


# Loading the data 
#data100=np.loadtxt('./Gaussian_Data.dat',usecols=(0,1), skiprows=1)
#print(data100[0:, :])    # data100([skip row from:skip row to, skip column from:skip column to])


"""
from scipy import stats
from scipy.optimize import curve_fit

#N_points = 100
n_bins = 10000

x = np.loadtxt('./Gaussian_Data.dat',usecols=(0), skiprows=1)
y = np.loadtxt('./Gaussian_Data.dat',usecols=(1), skiprows=1)
legend = ['distribution']

# Define Gaussian function
def gaussian(x, A, mu, sigma):
    return A * np.exp(-((x - mu)**2) / (2 * sigma**2))

# Creating histogram
fig, axs = plt.subplots(1, 1, figsize=(10, 7), tight_layout=True)

# Histogram for x values
N, bins, patches = axs.hist(x, bins=30, density=True, alpha=0.6, color='g', label='Data Histogram')

# Calculate bin centers
bin_centers = (bins[:-1] + bins[1:]) / 2

# Initial guess for Gaussian parameters
initial_guess = [1, np.mean(x), np.std(x)]

# Fit the Gaussian function to the histogram data
popt, _ = curve_fit(gaussian, bin_centers, N, p0=initial_guess)

# Extract fitting parameters
A_fit, mu_fit, sigma_fit = popt

# Create a smooth x range for plotting the Gaussian fit
x_fit = np.linspace(min(x), max(x), 1000)
y_fit = gaussian(x_fit, A_fit, mu_fit, sigma_fit)

# Plot Gaussian fit
axs.plot(x_fit, y_fit, 'r-', label=f'Gaussian Fit: $\mu={mu_fit:.2f}, \sigma={sigma_fit:.2f}$')

# Styling the plot
axs.set_xlabel("X-axis")
axs.set_ylabel("Density")
axs.set_title("Histogram with Gaussian Fit")
axs.legend()
axs.grid(visible=True, linestyle='--', alpha=0.7)

# Show plot
plt.show()
"""


import numpy as np
import matplotlib.pyplot as plt
from scipy.optimize import curve_fit
from matplotlib import colors
from scipy import stats


# Function to define a Gaussian
def gaussian(x, A, mu, sigma):
    return A * np.exp(-((x - mu)**2) / (2 * sigma**2))

# Load data
x = np.loadtxt('./Gaussian_Data.dat', usecols=(0), skiprows=1)
y = np.loadtxt('./Gaussian_Data.dat', usecols=(1), skiprows=1)
n_bins = 100
legend = ['Distribution']

# Creating histogram
fig, axs = plt.subplots(1, 1, figsize=(10, 7), tight_layout=True)

# Remove axes splines
for s in ['top', 'bottom', 'left', 'right']:
    axs.spines[s].set_visible(False)

# Remove x, y ticks
axs.xaxis.set_ticks_position('none')
axs.yaxis.set_ticks_position('none')

# Add padding between axes and labels
axs.xaxis.set_tick_params(pad=5)
axs.yaxis.set_tick_params(pad=10)

# Add x, y gridlines
axs.grid(visible=True, color='grey', linestyle='-.', linewidth=0.5, alpha=0.6)

# Add Text watermark
fig.text(0.9, 0.15, 'Jeeteshgavande30', fontsize=12, color='red', ha='right', va='bottom', alpha=0.7)

# Create histogram
N, bins, patches = axs.hist(x, bins=n_bins, density=True, alpha=0.6, label='Histogram')

# Calculate bin centers
bin_centers = (bins[:-1] + bins[1:]) / 2

# Initial guess for Gaussian parameters
initial_guess = [1, np.mean(x), np.std(x)]

# Fit the Gaussian function to the histogram data
popt, _ = curve_fit(gaussian, bin_centers, N, p0=initial_guess)

# Extract fitted parameters
A_fit, mu_fit, sigma_fit = popt

# Create a smooth x range for plotting the Gaussian fit
x_fit = np.linspace(min(x), max(x), 1000)
y_fit = gaussian(x_fit, A_fit, mu_fit, sigma_fit)

# Plot Gaussian fit
axs.plot(x_fit, y_fit, 'r-', label=f'Gaussian Fit: $\mu={mu_fit:.2f}, \sigma={sigma_fit:.2f}$')

# Set color for histogram bars
fracs = ((N**(1 / 5)) / N.max())
norm = colors.Normalize(fracs.min(), fracs.max())
for thisfrac, thispatch in zip(fracs, patches):
    color = plt.cm.viridis(norm(thisfrac))
    thispatch.set_facecolor(color)

# Adding a color bar
sm = plt.cm.ScalarMappable(cmap=plt.cm.viridis, norm=norm)
sm.set_array([])
cbar = plt.colorbar(sm, ax=axs)
cbar.set_label('Intensity')

# Add extra features
plt.xlabel("X-axis")
plt.ylabel("Density")
plt.legend()
plt.title('Customized Histogram with Gaussian Fit')

# Show plot
plt.show()















import numpy as np
import matplotlib.pyplot as plt
from scipy import stats
from matplotlib import colors

# Data (replace with your own data or file loading as needed)
x = np.loadtxt('./Gaussian_Data.dat', usecols=(0), skiprows=1)

# Define manual ranges and their corresponding centroids
range1, centroid1 = (2, 8), 6  # First range and its centroid
range2, centroid2 = (7, 12), 9  # Second range and its centroid

# Creating histogram
fig, axs = plt.subplots(1, 1, figsize=(10, 7), tight_layout=True)

# Remove axes splines
for s in ['top', 'bottom', 'left', 'right']:
    axs.spines[s].set_visible(False)

# Remove x, y ticks
axs.xaxis.set_ticks_position('none')
axs.yaxis.set_ticks_position('none')

# Add padding between axes and labels
axs.xaxis.set_tick_params(pad=5)
axs.yaxis.set_tick_params(pad=10)

# Add x, y gridlines
axs.grid(visible=True, color='grey', linestyle='-.', linewidth=0.5, alpha=0.6)

# Add Text watermark
fig.text(0.9, 0.15, 'Jeeteshgavande30', fontsize=12, color='red', ha='right', va='bottom', alpha=0.7)

# Plot the histogram
N, bins, patches = axs.hist(x, bins=1000, density=True)

# Set color for the histogram
fracs = ((N**(1 / 5)) / N.max())
norm = colors.Normalize(fracs.min(), fracs.max())

for thisfrac, thispatch in zip(fracs, patches):
    color = plt.cm.viridis(norm(thisfrac))
    thispatch.set_facecolor(color)

# Adding a color bar
sm = plt.cm.ScalarMappable(cmap=plt.cm.viridis, norm=norm)
sm.set_array([])
cbar = plt.colorbar(sm, ax=axs)
cbar.set_label('Intensity')

# Function to plot the Gaussian fit for a specific range and centroid
def plot_gaussian_fit(x, range_min, range_max, centroid, label):
    # Filter data within the given range
    x_range = x[(x >= range_min) & (x <= range_max)]
    
    # Fit a Gaussian to the data
    mu, std = stats.norm.fit(x_range)
    
    # Generate x values for plotting the Gaussian curve
    x_fit = np.linspace(range_min, range_max, 1000)
    
    # Compute the Gaussian fit
    y_fit = stats.norm.pdf(x_fit, mu, std)
    
    # Plot the Gaussian fit
    axs.plot(x_fit, y_fit, 'r-', label=label)

# Plot Gaussian fits for the specified ranges and centroids
plot_gaussian_fit(x, *range1, centroid1, "Gaussian Fit 1")  # First range
plot_gaussian_fit(x, *range2, centroid2, "Gaussian Fit 2")  # Second range

# Adding extra features
plt.xlabel("X-axis")
plt.ylabel("y-axis")
plt.legend()
plt.title('Histogram with Multiple Gaussian Fits')

# Show plot
plt.show()




