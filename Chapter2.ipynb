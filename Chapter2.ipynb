{
 "cells": [
  {
   "cell_type": "markdown",
   "id": "67d778e7",
   "metadata": {},
   "source": [
    "# Chapter2: Python Codes \n",
    "This chapter contain all the codes in the `python` programing language.\n",
    "\n",
    "```{note}\n",
    "If you have to the access to the github repository of my Jupyter Book then I strongly recommand to read this chapter from the Chapter2.ipynb. Since this chapter is all about the codes therefore it will be easy to see the code and respective output.\n",
    "```\n",
    "For the detail information plese click see the LaTeX file.\n",
    "\n",
    "## Subsection\n"
   ]
  },
  {
   "cell_type": "markdown",
   "id": "ee3b7c71",
   "metadata": {},
   "source": [
    "This line is added from the notebook. So I open the Chapter2.ipynb file in notebook and I added this line. The purpose is to see if I can see this changes in the htttp link and also in the Chapter2.md file."
   ]
  },
  {
   "cell_type": "markdown",
   "id": "f9c8e4bb",
   "metadata": {},
   "source": [
    "Here is the mathematical equation $e^{\\pi \\iota}$"
   ]
  },
  {
   "cell_type": "code",
   "execution_count": 1,
   "id": "5c9f24ec",
   "metadata": {},
   "outputs": [
    {
     "name": "stdout",
     "output_type": "stream",
     "text": [
      "The value of C is = 8\n"
     ]
    }
   ],
   "source": [
    "A = 2 \n",
    "B = 6\n",
    "C = A + B\n",
    "print(\"The value of C is =\", C)"
   ]
  },
  {
   "cell_type": "markdown",
   "id": "63bcdd31",
   "metadata": {},
   "source": [
    "$$Sin\\theta = \\frac{Prependicular}{Hypotenuse}$$"
   ]
  },
  {
   "cell_type": "code",
   "execution_count": null,
   "id": "8f582b1e",
   "metadata": {},
   "outputs": [],
   "source": []
  }
 ],
 "metadata": {
  "jupyter": {
   "jupytext": {
    "formats": "md:percent,ipynb",
    "text_representation": {
     "extension": ".md",
     "format_name": "myst"
    }
   }
  },
  "jupytext": {
   "formats": "md:myst,ipynb"
  },
  "kernelspec": {
   "display_name": "Python 3 (ipykernel)",
   "language": "python",
   "name": "python3"
  },
  "language_info": {
   "codemirror_mode": {
    "name": "ipython",
    "version": 3
   },
   "file_extension": ".py",
   "mimetype": "text/x-python",
   "name": "python",
   "nbconvert_exporter": "python",
   "pygments_lexer": "ipython3",
   "version": "3.8.5"
  }
 },
 "nbformat": 4,
 "nbformat_minor": 5
}
